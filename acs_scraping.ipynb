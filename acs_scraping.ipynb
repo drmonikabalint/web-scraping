{
 "cells": [
  {
   "cell_type": "code",
   "execution_count": 1,
   "metadata": {},
   "outputs": [],
   "source": [
    "from bs4 import BeautifulSoup\n",
    "import urllib.request\n",
    "from urllib.request import Request, urlopen\n",
    "import requests"
   ]
  },
  {
   "cell_type": "code",
   "execution_count": 2,
   "metadata": {},
   "outputs": [],
   "source": [
    "headers = ({'User-Agent': 'Mozilla/5.0 (Windows NT 6.1) AppleWebKit/537.36 (KHTML, like Gecko) Chrome/41.0.2228.0 Safari/537.36'})\n",
    "request_soup = requests.get('https://pubs.acs.org/', headers=headers)\n",
    "soup = BeautifulSoup(request_soup.text, 'html.parser')"
   ]
  },
  {
   "cell_type": "code",
   "execution_count": 3,
   "metadata": {},
   "outputs": [],
   "source": [
    "journals_soup = soup.findAll(\"div\", {\"class\": \"quick-search\"})"
   ]
  },
  {
   "cell_type": "code",
   "execution_count": 4,
   "metadata": {},
   "outputs": [],
   "source": [
    "journals = soup.findAll(\"option\")"
   ]
  },
  {
   "cell_type": "code",
   "execution_count": 5,
   "metadata": {},
   "outputs": [],
   "source": [
    "#def get_link(journal_code):\n",
    "#    array = []\n",
    "#    for i in journal_code:\n",
    "#        link = \"https://pubs.acs.org/journal/{}\".format(i)\n",
    "#        array.append(link)\n",
    "#    return (array)"
   ]
  },
  {
   "cell_type": "code",
   "execution_count": 6,
   "metadata": {},
   "outputs": [],
   "source": [
    "#links = get_link(journal_code)\n",
    "#links_temp = get_link(journal_code_temp)\n",
    "#links_temp"
   ]
  },
  {
   "cell_type": "markdown",
   "metadata": {},
   "source": [
    "## Journals"
   ]
  },
  {
   "cell_type": "code",
   "execution_count": 7,
   "metadata": {},
   "outputs": [],
   "source": [
    "#headers = ({'User-Agent': 'Mozilla/5.0 (Windows NT 6.1) AppleWebKit/537.36 (KHTML, like Gecko) Chrome/41.0.2228.0 Safari/537.36'})\n",
    "#req_impact = requests.get('https://pubs.acs.org/journal/achre4', headers=headers)\n",
    "#soup_impact = BeautifulSoup(req_impact.text, 'html.parser')"
   ]
  },
  {
   "cell_type": "code",
   "execution_count": 8,
   "metadata": {},
   "outputs": [],
   "source": [
    "import pandas as pd\n",
    "from selenium import webdriver\n",
    "from selenium.webdriver.chrome.options import Options\n",
    "from bs4 import BeautifulSoup\n",
    "#from fake_useragent import UserAgent\n",
    "import time"
   ]
  },
  {
   "cell_type": "code",
   "execution_count": 31,
   "metadata": {},
   "outputs": [],
   "source": [
    "journal_name = []\n",
    "journal_code = []\n",
    "journal_code_temp = []\n",
    "current_vol = []\n",
    "current_issue = []\n",
    "current_date = []\n",
    "journal_impact = []\n",
    "journal_citation = []"
   ]
  },
  {
   "cell_type": "code",
   "execution_count": 92,
   "metadata": {
    "scrolled": true
   },
   "outputs": [
    {
     "data": {
      "text/plain": [
       "['achre4',\n",
       " 'aabmcb',\n",
       " 'aaembp',\n",
       " 'aaemcq',\n",
       " 'aamick',\n",
       " 'aanmf6',\n",
       " 'aapmcd',\n",
       " 'abseba',\n",
       " 'accacs',\n",
       " 'acscii',\n",
       " 'acbcct',\n",
       " 'achsc5',\n",
       " 'acncdm',\n",
       " 'acsccc',\n",
       " 'aesccq',\n",
       " 'aelccp',\n",
       " 'aeecco',\n",
       " 'aewcaa',\n",
       " 'aidcbc',\n",
       " 'amlccd',\n",
       " 'amlcef',\n",
       " 'amclct',\n",
       " 'ancac3',\n",
       " 'acsodf',\n",
       " 'aptsfn',\n",
       " 'apchd5',\n",
       " 'ascefj',\n",
       " 'ascecg',\n",
       " 'asbcd6',\n",
       " 'ancham',\n",
       " 'bichaw',\n",
       " 'bcches',\n",
       " 'bomaf6',\n",
       " 'bipret',\n",
       " 'cgeabj',\n",
       " 'cenear',\n",
       " 'crtoec',\n",
       " 'chreay',\n",
       " 'cmatex',\n",
       " 'cgdefu',\n",
       " 'enfuem',\n",
       " 'esthag',\n",
       " 'estlcu',\n",
       " 'iepra6.2',\n",
       " 'iechad',\n",
       " 'iecac0',\n",
       " 'iecjc0',\n",
       " 'iecfa7',\n",
       " 'iepdaw',\n",
       " 'iepra6',\n",
       " 'iecred',\n",
       " 'iecnav',\n",
       " 'inocaj',\n",
       " 'jacsat',\n",
       " 'jafcau',\n",
       " 'jceaax',\n",
       " 'jci001',\n",
       " 'jceda8',\n",
       " 'jcics1',\n",
       " 'jcisd8',\n",
       " 'jctcce',\n",
       " 'jcchff',\n",
       " 'iechad.1',\n",
       " 'jmcmar.1',\n",
       " 'jmcmar',\n",
       " 'jnprdf',\n",
       " 'joceah',\n",
       " 'jpchax',\n",
       " 'jpchax.2',\n",
       " 'jpcafh',\n",
       " 'jpcbfk',\n",
       " 'jpccck',\n",
       " 'jpclcd',\n",
       " 'jprobs',\n",
       " 'jamsef',\n",
       " 'langd5',\n",
       " 'mamobx',\n",
       " 'mpohbp',\n",
       " 'nalefd',\n",
       " 'neaca9',\n",
       " 'orlef7',\n",
       " 'oprdfk',\n",
       " 'orgnd7',\n",
       " 'pnas',\n",
       " 'iepra6.1',\n",
       " 'jpchax.1']"
      ]
     },
     "execution_count": 92,
     "metadata": {},
     "output_type": "execute_result"
    }
   ],
   "source": [
    "journal_name = [s.text.strip() for s in journals]\n",
    "journal_name = journal_name[1:]\n",
    "    \n",
    "journal_code = [s['value'] for s in journals]\n",
    "journal_code = journal_code[1:]\n",
    "journal_code"
   ]
  },
  {
   "cell_type": "code",
   "execution_count": 184,
   "metadata": {},
   "outputs": [],
   "source": [
    "from selenium.common.exceptions import NoSuchElementException\n",
    "def acs_scraper(journals, browser):   \n",
    "    current_vol = []\n",
    "    current_issue = []\n",
    "    current_date = []\n",
    "    journal_impact = []\n",
    "    journal_citation = []\n",
    "    time.sleep(10)   \n",
    "    issue = browser.find_elements_by_xpath('.//div[@class = \"jhHeader_meta\"]')\n",
    "    impact = browser.find_element_by_class_name('jhHeader_impact')\n",
    "    citations = browser.find_element_by_class_name('jhHeader_citations')\n",
    "    \n",
    "    for i in issue:\n",
    "        current_vol.append(i.find_element_by_xpath('.//span[1]').text)\n",
    "        current_issue.append(i.find_element_by_xpath('.//span[2]').text)\n",
    "        current_date.append(i.find_element_by_xpath('.//p').text)\n",
    "    \n",
    "    journal_impact.append(impact.text)\n",
    "    journal_citation.append(citations.text)\n",
    "    \n",
    "    d = dict({\"impact\":journal_impact,\"citation\" : journal_citation, \"current volume\" : current_vol, \"current issue\" : current_issue, \"current date\" : current_date})\n",
    "    #pd.DataFrame(dict([ (k,pd.Series(v)) for k,v in d.items() ]))\n",
    "    #pd.DataFrame(d)\n",
    "    #df = pd.DataFrame({\"impact\":journal_impact,\"citation\" : journal_citation, \"current volume\" : current_vol, \"current issue\" : current_issue, \"current date\" : current_date})\n",
    "\n",
    "    return d #pd.DataFrame(dict([ (k,pd.Series(v)) for k,v in d.items() ]))    #journal_name, journal_code, current_vol, current_issue, current_date, journal_impact, journal_citation"
   ]
  },
  {
   "cell_type": "code",
   "execution_count": 187,
   "metadata": {},
   "outputs": [
    {
     "name": "stdout",
     "output_type": "stream",
     "text": [
      "Processing: achre4\n",
      "Processing: aabmcb\n"
     ]
    },
    {
     "data": {
      "text/html": [
       "<div>\n",
       "<style scoped>\n",
       "    .dataframe tbody tr th:only-of-type {\n",
       "        vertical-align: middle;\n",
       "    }\n",
       "\n",
       "    .dataframe tbody tr th {\n",
       "        vertical-align: top;\n",
       "    }\n",
       "\n",
       "    .dataframe thead th {\n",
       "        text-align: right;\n",
       "    }\n",
       "</style>\n",
       "<table border=\"1\" class=\"dataframe\">\n",
       "  <thead>\n",
       "    <tr style=\"text-align: right;\">\n",
       "      <th></th>\n",
       "      <th>impact</th>\n",
       "      <th>citation</th>\n",
       "      <th>current volume</th>\n",
       "      <th>current issue</th>\n",
       "      <th>current date</th>\n",
       "    </tr>\n",
       "  </thead>\n",
       "  <tbody>\n",
       "    <tr>\n",
       "      <td>0</td>\n",
       "      <td>[Impact Factor 2019: 20.832]</td>\n",
       "      <td>[Citations 2019: 72,738]</td>\n",
       "      <td>[Volume 53]</td>\n",
       "      <td>[Issue 7]</td>\n",
       "      <td>[July 21, 2020]</td>\n",
       "    </tr>\n",
       "    <tr>\n",
       "      <td>1</td>\n",
       "      <td>[]</td>\n",
       "      <td>[]</td>\n",
       "      <td>[Volume 3]</td>\n",
       "      <td>[Issue 7]</td>\n",
       "      <td>[July 20, 2020]</td>\n",
       "    </tr>\n",
       "  </tbody>\n",
       "</table>\n",
       "</div>"
      ],
      "text/plain": [
       "                         impact                  citation current volume  \\\n",
       "0  [Impact Factor 2019: 20.832]  [Citations 2019: 72,738]    [Volume 53]   \n",
       "1                            []                        []     [Volume 3]   \n",
       "\n",
       "  current issue     current date  \n",
       "0     [Issue 7]  [July 21, 2020]  \n",
       "1     [Issue 7]  [July 20, 2020]  "
      ]
     },
     "execution_count": 187,
     "metadata": {},
     "output_type": "execute_result"
    }
   ],
   "source": [
    "from collections import defaultdict\n",
    "\n",
    "journals = []\n",
    "\n",
    "options = Options()   \n",
    "browser = webdriver.Firefox()\n",
    "\n",
    "for i in journal_code_temp:\n",
    "    url = 'https://pubs.acs.org/journal/'+str(i)\n",
    "    browser.get(url)\n",
    "    print(\"Processing:\", i)\n",
    "    acs_scraper(journals, browser)\n",
    "    journals.append(acs_scraper(journals, browser))\n",
    "pd.DataFrame(journals)\n",
    "#dict_scraper.loc[-1] = dict_scraper  # adding a row\n",
    "#dict_scraper.index = dict_scraper.index + 1  # shifting index\n",
    "#dict_scraper = dict_scraper.sort_index()\n",
    "    #dict_merged = defaultdict(list)\n",
    "    #print(dict_merged)\n",
    "    #for k, v in dict_scraper.items():\n",
    "    #    dict_scraper[k].append(v)\n",
    "#df_scraper = pd.DataFrame(dict_scraper)\n",
    "#df_scraper.to_csv(\"acs_journals.csv\")\n",
    "\n",
    "#d = dict({\"impact\":journal_impact,\"citation\" : journal_citation, \"current volume\" : current_vol, \"current issue\" : current_issue, \"current date\" : current_date})\n",
    "#pd.DataFrame(d)\n",
    "#dict_scraper.to_csv(\"acs_journals.csv\")\n",
    "    #print(pd.DataFrame.append(df_scraper, ignore_index=True))\n",
    "    #df_scraper = pd.DataFrame(dict_scraper)\n",
    "    #df_scraper.to_csv(\"acs_journals.csv\") "
   ]
  },
  {
   "cell_type": "code",
   "execution_count": 156,
   "metadata": {},
   "outputs": [],
   "source": [
    "#Processing: aeecco"
   ]
  },
  {
   "cell_type": "code",
   "execution_count": null,
   "metadata": {},
   "outputs": [],
   "source": []
  },
  {
   "cell_type": "code",
   "execution_count": null,
   "metadata": {},
   "outputs": [],
   "source": []
  },
  {
   "cell_type": "code",
   "execution_count": null,
   "metadata": {},
   "outputs": [],
   "source": []
  }
 ],
 "metadata": {
  "kernelspec": {
   "display_name": "Python 3",
   "language": "python",
   "name": "python3"
  },
  "language_info": {
   "codemirror_mode": {
    "name": "ipython",
    "version": 3
   },
   "file_extension": ".py",
   "mimetype": "text/x-python",
   "name": "python",
   "nbconvert_exporter": "python",
   "pygments_lexer": "ipython3",
   "version": "3.7.4"
  }
 },
 "nbformat": 4,
 "nbformat_minor": 2
}
