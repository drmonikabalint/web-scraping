{
 "cells": [
  {
   "cell_type": "code",
   "execution_count": 1,
   "metadata": {},
   "outputs": [],
   "source": [
    "from bs4 import BeautifulSoup\n",
    "import urllib.request\n",
    "import re\n",
    "from urllib.request import Request, urlopen\n",
    "import requests"
   ]
  },
  {
   "cell_type": "code",
   "execution_count": 2,
   "metadata": {},
   "outputs": [],
   "source": [
    "#for i in links_temp:\n",
    "headers = ({'User-Agent': 'Mozilla/5.0 (Windows NT 6.1) AppleWebKit/537.36 (KHTML, like Gecko) Chrome/41.0.2228.0 Safari/537.36'})\n",
    "req_impact = requests.get('https://pubs.acs.org/toc/amclct/current', headers=headers)\n",
    "soup_impact = BeautifulSoup(req_impact.text, 'html.parser')"
   ]
  },
  {
   "cell_type": "code",
   "execution_count": 3,
   "metadata": {},
   "outputs": [],
   "source": [
    "impact_metadata = soup_impact.findAll(\"h5\", {\"class\": \"issue-item_title\"})"
   ]
  },
  {
   "cell_type": "code",
   "execution_count": 4,
   "metadata": {},
   "outputs": [
    {
     "data": {
      "text/plain": [
       "[['/doi/10.1021/acsmedchemlett.0c00334'],\n",
       " ['/doi/10.1021/acsmedchemlett.0c00254'],\n",
       " ['/doi/10.1021/acsmedchemlett.0c00316'],\n",
       " ['/doi/10.1021/acsmedchemlett.0c00290'],\n",
       " ['/doi/10.1021/acsmedchemlett.0c00299'],\n",
       " ['/doi/10.1021/acsmedchemlett.9b00579'],\n",
       " ['/doi/10.1021/acsmedchemlett.0c00042'],\n",
       " ['/doi/10.1021/acsmedchemlett.0c00061'],\n",
       " ['/doi/10.1021/acsmedchemlett.0c00070'],\n",
       " ['/doi/10.1021/acsmedchemlett.0c00082'],\n",
       " ['/doi/10.1021/acsmedchemlett.0c00090'],\n",
       " ['/doi/10.1021/acsmedchemlett.0c00108'],\n",
       " ['/doi/10.1021/acsmedchemlett.0c00105'],\n",
       " ['/doi/10.1021/acsmedchemlett.0c00172'],\n",
       " ['/doi/10.1021/acsmedchemlett.0c00173'],\n",
       " ['/doi/10.1021/acsmedchemlett.0c00175'],\n",
       " ['/doi/10.1021/acsmedchemlett.0c00196'],\n",
       " ['/doi/10.1021/acsmedchemlett.0c00232'],\n",
       " ['/doi/10.1021/acsmedchemlett.0c00239'],\n",
       " ['/doi/10.1021/acsmedchemlett.0c00285'],\n",
       " ['/doi/10.1021/acsmedchemlett.0c00302'],\n",
       " ['/doi/10.1021/acsmedchemlett.0c00203'],\n",
       " ['/doi/10.1021/acsmedchemlett.0c00309'],\n",
       " ['/doi/10.1021/acsmedchemlett.0c00336'],\n",
       " ['/doi/10.1021/mlv011i007_1393283'],\n",
       " ['/doi/10.1021/mlv011i007_1393282']]"
      ]
     },
     "execution_count": 4,
     "metadata": {},
     "output_type": "execute_result"
    }
   ],
   "source": [
    "def get_doi (soup_doi):\n",
    "    links_with_text = []\n",
    "    for a in soup_doi:\n",
    "        for x in a:\n",
    "            links_with_text.append(x.get_attribute_list('href'))\n",
    "    return (links_with_text)\n",
    "get_doi(impact_metadata)"
   ]
  },
  {
   "cell_type": "code",
   "execution_count": 5,
   "metadata": {},
   "outputs": [
    {
     "name": "stdout",
     "output_type": "stream",
     "text": [
      "Confronting Racism in Chemistry Journals\n",
      "Exploiting Existing Molecular Scaffolds for Long-Term COVID Treatment\n",
      "Advantages of the Parent Nucleoside GS-441524 over Remdesivir for Covid-19 Treatment\n",
      "Chemically Induced Degradation of FAK-ALK for Application in Cancer Therapeutics\n",
      "RAF Kinases in Cancer: A Moving Target and Degradation Therapy\n",
      "Design, Synthesis, and Preliminary Immunological Studies of MUC1-Based Antitumor Vaccines Adjuvanted with R- and S-FSL-1\n",
      "Bromocriptine as a Novel Pharmacological Chaperone for Mucopolysaccharidosis IV A\n",
      "Design and Development of a Macrocyclic Series Targeting Phosphoinositide 3-Kinase δ\n",
      "3-Difluoroalkyl Quaternary Oxindoles Inhibit Macrophage Pyroptosis by Blocking Inflammasome Recruitment of Caspase-1\n",
      "Optimization of Nicotinamides as Potent and Selective IRAK4 Inhibitors with Efficacy in a Murine Model of Psoriasis\n",
      "Amidate Prodrugs of O-2-Alkylated Pyrimidine Acyclic Nucleosides Display Potent Anti-Herpesvirus Activity\n",
      "Pyrazolo[4,3-d]pyrimidine Derivatives as a Novel Hypoxia-Inducible Factor Prolyl Hydroxylase Domain Inhibitor for the Treatment of Anemia\n",
      "Designing Dihydrofolate Reductase Inhibitors as X-ray Radiosensitizers to Reverse Radioresistance of Cervical Cancer\n",
      "Structural Basis of Inhibition of Insulin-Regulated Aminopeptidase by a Macrocyclic Peptidic Inhibitor\n",
      "2-Aminooxazole as a Novel Privileged Scaffold in Antitubercular Medicinal Chemistry\n",
      "Establishing the Structure–Activity Relationship of Daptomycin\n",
      "Synthesis of Novel Ciprofloxacin-Based Hybrid Molecules toward Potent Antimalarial Activity\n",
      "Synthesis and Evaluation of Neutral Phosphate Triester Backbone-Modified siRNAs\n",
      "Discovery of 3-Quinazolin-4(3H)-on-3-yl-2,N-dimethylpropanamides as Orally Active and Selective PI3Kα Inhibitors\n",
      "Antiglioma Activity of Aryl and Amido-Aryl Acetamidine Derivatives Targeting iNOS: Synthesis and Biological Evaluation\n",
      "Selective Class I HDAC Inhibitors Based on Aryl Ketone Zinc Binding Induce HIV-1 Protein for Clearance\n",
      "Bioreducible Phosphonoamidate Pro-drug Inhibitor of Enolase: Proof of Concept Study\n",
      "Correction to “Pyridine Derivative of the Natural Alkaloid Berberine as Human Telomeric G4-DNA Binder: A Solution and Solid-State Study”\n",
      "Correction to “Accelerated Discovery of Novel Ponatinib Analogs with Improved Properties for the Treatment of Parkinson’s Disease”\n",
      "Issue Editorial Masthead\n",
      "Issue Publication Information\n"
     ]
    }
   ],
   "source": [
    "def get_title (soup_title):\n",
    "    links_with_text = []\n",
    "    for a in soup_title:\n",
    "        print(a.text)\n",
    "\n",
    "get_title(impact_metadata)"
   ]
  },
  {
   "cell_type": "code",
   "execution_count": 72,
   "metadata": {},
   "outputs": [],
   "source": [
    "headers = ({'User-Agent': 'Mozilla/5.0 (Windows NT 6.1) AppleWebKit/537.36 (KHTML, like Gecko) Chrome/41.0.2228.0 Safari/537.36'})\n",
    "req_article = requests.get('https://pubs.acs.org/doi/10.1021/acs.accounts.0c00116', headers=headers)\n",
    "soup_article = BeautifulSoup(req_impact.text, 'html.parser')"
   ]
  },
  {
   "cell_type": "code",
   "execution_count": 89,
   "metadata": {},
   "outputs": [],
   "source": [
    "from selenium import webdriver\n",
    "from selenium.common.exceptions import NoSuchElementException\n",
    "from selenium.webdriver.common.keys import Keys\n",
    "\n",
    "browser = webdriver.Firefox()\n",
    "browser.get(\"https://pubs.acs.org/doi/10.1021/acsmedchemlett.0c00334\")"
   ]
  },
  {
   "cell_type": "code",
   "execution_count": 90,
   "metadata": {},
   "outputs": [
    {
     "name": "stdout",
     "output_type": "stream",
     "text": [
      "Cynthia J. Burrows\n",
      "Jiaxing Huang\n",
      "Shu Wang\n",
      "Hyun Jae Kim\n",
      "Gerald J. Meyer\n",
      "Kirk Schanze\n",
      "T. Randall Lee\n",
      "Jodie L. Lutkenhaus\n",
      "David Kaplan\n",
      "Christopher Jones\n",
      "Carolyn Bertozzi\n",
      "Laura Kiessling\n",
      "Mary Beth Mulcahy\n",
      "Craig W. Lindsley\n",
      "M. G. Finn\n",
      "Joel D. Blum\n",
      "Prashant Kamat\n",
      "Wonyong Choi\n",
      "Shane Snyder\n",
      "Courtney C. Aldrich\n",
      "Stuart Rowan\n",
      "Bin Liu\n",
      "Dennis Liotta\n",
      "Paul S. Weiss\n",
      "Deqing Zhang\n",
      "Krishna N. Ganesh\n",
      "Harry A. Atwater\n",
      "J. Justin Gooding\n",
      "David T. Allen\n",
      "Christopher A. Voigt\n",
      "Jonathan Sweedler\n",
      "Alanna Schepartz\n",
      "Vincent Rotello\n",
      "Sébastien Lecommandoux\n",
      "Shana J. Sturla\n",
      "Sharon Hammes-Schiffer\n",
      "Jillian Buriak\n",
      "Jonathan W. Steed\n",
      "Hongwei Wu\n",
      "Julie Zimmerman\n",
      "Bryan Brooks\n",
      "Phillip Savage\n",
      "William Tolman\n",
      "Thomas F. Hofmann\n",
      "Joan F. Brennecke\n",
      "Thomas A. Holme\n",
      "Kenneth M. Merz Jr.\n",
      "Gustavo Scuseria\n",
      "William Jorgensen\n",
      "Gunda I. Georg\n",
      "Shaomeng Wang\n",
      "Philip Proteau\n",
      "John R. Yates III\n",
      "Peter Stang\n",
      "Gilbert C. Walker\n",
      "Marc Hillmyer\n",
      "Lynne S. Taylor\n",
      "Teri W. Odom\n",
      "Erick Carreira\n",
      "Kai Rossen\n",
      "Paul Chirik\n",
      "Scott J. Miller\n",
      "Joan-Emma Shea\n",
      "Anne McCoy\n",
      "Martin Zanni\n",
      "Gregory Hartland\n",
      "Gregory Scholes\n",
      "Joseph A. Loo\n",
      "James Milne\n",
      "Sarah B. Tegen\n",
      "Daniel T. Kulp\n",
      "Julia Laskin\n"
     ]
    }
   ],
   "source": [
    "author = browser.find_elements_by_class_name(\"hlFld-ContribAuthor\")\n",
    "for elem in author:\n",
    "    print(elem.text)"
   ]
  },
  {
   "cell_type": "code",
   "execution_count": 91,
   "metadata": {},
   "outputs": [],
   "source": [
    "abstract = browser.find_elements_by_class_name(\"articleBody_abstractText\")\n",
    "for elem in abstract:\n",
    "    print(elem.text)"
   ]
  },
  {
   "cell_type": "code",
   "execution_count": 93,
   "metadata": {},
   "outputs": [
    {
     "name": "stdout",
     "output_type": "stream",
     "text": [
      "\n",
      "Confronting Racism in Chemistry Journals\n"
     ]
    }
   ],
   "source": [
    "title = browser.find_elements_by_class_name(\"hlFld-Title\")\n",
    "for elem in title:\n",
    "    print(elem.text)"
   ]
  },
  {
   "cell_type": "code",
   "execution_count": 96,
   "metadata": {},
   "outputs": [],
   "source": [
    "received = webdriver.Firefox()\n",
    "received.get(\"https://sci-hub.tw/https://pubs.acs.org/doi/10.1021/acs.accounts.0c00116\")"
   ]
  },
  {
   "cell_type": "code",
   "execution_count": 124,
   "metadata": {},
   "outputs": [],
   "source": [
    "headers = ({'User-Agent': 'Mozilla/5.0 (Windows NT 6.1) AppleWebKit/537.36 (KHTML, like Gecko) Chrome/41.0.2228.0 Safari/537.36'})\n",
    "req_received = requests.get('https://sci-hub.tw/https://pubs.acs.org/doi/10.1021/acs.accounts.0c00116', headers=headers)\n",
    "soup_received = BeautifulSoup(req_received .text, 'html.parser')"
   ]
  },
  {
   "cell_type": "code",
   "execution_count": 211,
   "metadata": {},
   "outputs": [
    {
     "data": {
      "text/plain": [
       "<div id=\"menu\">\n",
       "<table onclick=\"window.open('//sci-hub.tw/')\"><tr>\n",
       "<td><div id=\"logo\"></div></td>\n",
       "<td>\n",
       "<div id=\"sci\"><nobr>sci-hub</nobr></div>\n",
       "<div id=\"motto\">to open science</div>\n",
       "</td>\n",
       "</tr></table>\n",
       "<div id=\"buttons\">\n",
       "<ul>\n",
       "<!--    <li id = \"reload\"><a target = \"_blank\" href = \"//sci-hub.tw/reload/10.1021/acs.accounts.0c00116\">↻ reload</a></li>-->\n",
       "<li><a href=\"#\" onclick=\"location.href='//sci-hub.tw/downloads/2020-06-27//d1/10.1021@acs.accounts.0c00116.pdf?download=true'\">⇣ save</a></li>\n",
       "</ul>\n",
       "</div>\n",
       "<div id=\"warning\">\n",
       "</div>\n",
       "<div id=\"citation\" onclick=\"clip(this)\"> </div>\n",
       "<div id=\"link\">\n",
       "            url to share this paper:<br/>\n",
       "<a href=\"https://sci-hub.tw/10.1021/acs.accounts.0c00116\"><nobr>sci-hub.tw/10.1021/acs.accounts.0c00116</nobr></a>\n",
       "</div>\n",
       "<div id=\"versions\">\n",
       "            downloaded on <b>2020-06-27</b> </div>\n",
       "<div id=\"description\" onclick=\"window.open('//sci-hub.tw/support')\">\n",
       "        Sci-Hub is a project<br/>to make knowledge free.<br/><a href=\"//sci-hub.st/support\" target=\"_blank\">support →</a>\n",
       "</div>\n",
       "<div id=\"social\">\n",
       "            updates on <a href=\"//twitter.com/Sci_Hub\" target=\"_blank\">twitter</a>\n",
       "</div>\n",
       "<div id=\"creator\">\n",
       "            created by <a href=\"//engineuring.wordpress.com\" id=\"creatori\" style=\"display:none\" target=\"_blank\">Alexandra Elbakyan</a>\n",
       "</div>\n",
       "<div style=\"position:fixed;bottom:0;width:330px\">\n",
       "<div style=\"overflow:hidden;width:100%;text-align: center\">\n",
       "<a href=\"//sci-hub.tw/alexandra\" onclick=\"hideme(this)\" target=\"_blank\">\n",
       "<img border=\"0\" id=\"minime\" src=\"/misc/img/888.gif\"/> </a>\n",
       "</div>\n",
       "</div>\n",
       "</div>"
      ]
     },
     "execution_count": 211,
     "metadata": {},
     "output_type": "execute_result"
    }
   ],
   "source": [
    "divtags = soup_received.find('iframe')\n",
    "soup_received.div.extract()"
   ]
  },
  {
   "cell_type": "code",
   "execution_count": 220,
   "metadata": {},
   "outputs": [],
   "source": [
    "iframe = received.find_element_by_tag_name('iframe')"
   ]
  },
  {
   "cell_type": "code",
   "execution_count": 234,
   "metadata": {},
   "outputs": [],
   "source": [
    "received.switch_to.frame(iframe)"
   ]
  },
  {
   "cell_type": "code",
   "execution_count": 235,
   "metadata": {},
   "outputs": [],
   "source": [
    "received.switch_to.default_content()"
   ]
  },
  {
   "cell_type": "code",
   "execution_count": 306,
   "metadata": {},
   "outputs": [],
   "source": [
    "received.switch_to.frame(iframe)\n",
    "def get_received(drivers):\n",
    "    textLayer = drivers.find_elements_by_class_name(\"textLayer\")\n",
    "    for item in textLayer:\n",
    "        span_item = item.text.split(\"\\n\")\n",
    "        for x in span_item:\n",
    "            if x == \"Received:\": \n",
    "                nextelem = span_item[span_item.index(x)+1]\n",
    "                print (nextelem)\n",
    "received.switch_to.default_content()"
   ]
  },
  {
   "cell_type": "code",
   "execution_count": 307,
   "metadata": {},
   "outputs": [
    {
     "name": "stdout",
     "output_type": "stream",
     "text": [
      "March 13, 2020\n"
     ]
    }
   ],
   "source": [
    "received.switch_to.frame(iframe)\n",
    "get_received(received)\n",
    "received.switch_to.default_content()"
   ]
  },
  {
   "cell_type": "code",
   "execution_count": 295,
   "metadata": {},
   "outputs": [],
   "source": []
  },
  {
   "cell_type": "code",
   "execution_count": 296,
   "metadata": {},
   "outputs": [],
   "source": []
  },
  {
   "cell_type": "code",
   "execution_count": null,
   "metadata": {},
   "outputs": [],
   "source": []
  }
 ],
 "metadata": {
  "kernelspec": {
   "display_name": "Python 3",
   "language": "python",
   "name": "python3"
  },
  "language_info": {
   "codemirror_mode": {
    "name": "ipython",
    "version": 3
   },
   "file_extension": ".py",
   "mimetype": "text/x-python",
   "name": "python",
   "nbconvert_exporter": "python",
   "pygments_lexer": "ipython3",
   "version": "3.7.4"
  }
 },
 "nbformat": 4,
 "nbformat_minor": 2
}
